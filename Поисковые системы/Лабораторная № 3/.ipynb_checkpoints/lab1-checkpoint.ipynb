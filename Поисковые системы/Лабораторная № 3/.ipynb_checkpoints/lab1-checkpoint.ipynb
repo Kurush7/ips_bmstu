{
 "cells": [
  {
   "cell_type": "markdown",
   "source": [
    "#TASK 1\n",
    "Найдите 1 любой способ сломать токенизацию на предложения функцией sentenize из библиотеки razdel\n",
    "\n",
    "(ну как бы... https://github.com/natasha/razdel/issues/8)"
   ],
   "metadata": {
    "collapsed": false
   },
   "id": "ef9f6a3e84890019"
  },
  {
   "cell_type": "code",
   "execution_count": 20,
   "outputs": [
    {
     "data": {
      "text/plain": "[Substring(1,\n           104,\n           'Точка A принадлежит отрезку XY длиной 10 см и делит его в отношении 3:5, считая от точки B. Найдите AB.')]"
     },
     "execution_count": 20,
     "metadata": {},
     "output_type": "execute_result"
    }
   ],
   "source": [
    "from razdel import tokenize, sentenize\n",
    "text = '''\n",
    "Точка A принадлежит отрезку XY длиной 10 см и делит его в отношении 3:5, считая от точки B. Найдите AB.\n",
    "'''\n",
    "list(sentenize(text))"
   ],
   "metadata": {
    "collapsed": false,
    "ExecuteTime": {
     "end_time": "2024-02-18T10:27:34.667717078Z",
     "start_time": "2024-02-18T10:27:34.625524698Z"
    }
   },
   "id": "3a4500ccf5348923"
  },
  {
   "cell_type": "markdown",
   "source": [],
   "metadata": {
    "collapsed": false
   },
   "id": "a935ee433f10af19"
  },
  {
   "cell_type": "code",
   "execution_count": null,
   "outputs": [],
   "source": [],
   "metadata": {
    "collapsed": false
   },
   "id": "150a75271e439e9e"
  }
 ],
 "metadata": {
  "kernelspec": {
   "display_name": "Python 3",
   "language": "python",
   "name": "python3"
  },
  "language_info": {
   "codemirror_mode": {
    "name": "ipython",
    "version": 2
   },
   "file_extension": ".py",
   "mimetype": "text/x-python",
   "name": "python",
   "nbconvert_exporter": "python",
   "pygments_lexer": "ipython2",
   "version": "2.7.6"
  }
 },
 "nbformat": 4,
 "nbformat_minor": 5
}
