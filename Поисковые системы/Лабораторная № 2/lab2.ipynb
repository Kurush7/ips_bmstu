{
 "cells": [
  {
   "cell_type": "markdown",
   "source": [
    "### Информационно-поисковые системы\n",
    "### Л/р №2. Выделение именованных сущностей"
   ],
   "metadata": {
    "collapsed": false
   },
   "id": "ef9f6a3e84890019"
  },
  {
   "cell_type": "code",
   "execution_count": 2,
   "outputs": [
    {
     "data": {
      "text/plain": "'Третий крестовый поход (1189—1192) был инициирован римскими папами Григорием VIII и (после смерти Григория VIII) Климентом III. В Крестовом походе приняли участие четверо самых могущественных европейских монархов — германский император Фридрих I Барбаросса из династии Штауфенов, французский король Филипп II Август — представитель династии Капетингов, австрийский герцог Леопольд V Бабенберг и английский король Ричард I Львиное Сердце из династии Плантагенетов. Также союзником европейских преслуг '"
     },
     "execution_count": 2,
     "metadata": {},
     "output_type": "execute_result"
    }
   ],
   "source": [
    "text = open('text.txt').read()\n",
    "text[:500]"
   ],
   "metadata": {
    "collapsed": false,
    "ExecuteTime": {
     "end_time": "2024-03-19T15:16:33.205608495Z",
     "start_time": "2024-03-19T15:16:33.141373104Z"
    }
   },
   "id": "82c512de127ecb0b"
  },
  {
   "cell_type": "markdown",
   "source": [
    "Итак. Статья из Вики про 3й крестовый поход. Примерный размер:"
   ],
   "metadata": {
    "collapsed": false
   },
   "id": "a935ee433f10af19"
  },
  {
   "cell_type": "code",
   "execution_count": 3,
   "outputs": [
    {
     "name": "stdout",
     "output_type": "stream",
     "text": [
      "num of chars: 54813\n",
      "num of words: ~7637\n"
     ]
    }
   ],
   "source": [
    "print(f'num of chars: {len(text)}\\nnum of words: ~{len(text.split(\" \"))}')"
   ],
   "metadata": {
    "collapsed": false,
    "ExecuteTime": {
     "end_time": "2024-03-19T15:16:33.209786761Z",
     "start_time": "2024-03-19T15:16:33.195192309Z"
    }
   },
   "id": "606f9b27f276157"
  },
  {
   "cell_type": "markdown",
   "source": [
    "Сущности будем вытаскивать следующие:\n",
    "- даты: \"в апреле 1191 года\", \"1189 год\", \"1096—1099\"\n",
    "- имена, в основном правителей Европы и Востока: \"Генрих II Плантагенет\", \"Генрих Английский\", \"Салах-ад-дин\", \"король Ричард I Львиное Сердце из династии Плантагенетов\"\n",
    "- георгафия: \"Малая Азия\", \"Акра\""
   ],
   "metadata": {
    "collapsed": false
   },
   "id": "3703eba7a1a3eadd"
  },
  {
   "cell_type": "markdown",
   "source": [
    "Сначала посмотрим стандартные парсеры:"
   ],
   "metadata": {
    "collapsed": false
   },
   "id": "48867ccf9408dfae"
  },
  {
   "cell_type": "code",
   "execution_count": 4,
   "outputs": [],
   "source": [
    "from natasha import NamesExtractor, DatesExtractor, LocationExtractor, PersonExtractor\n",
    "from natasha.markup import show_markup, show_json\n",
    "\n",
    "extractors = {'names': NamesExtractor(), \n",
    "              'persons': PersonExtractor(),\n",
    "              'dates': DatesExtractor(), \n",
    "              'locations': LocationExtractor()\n",
    "              }\n",
    "\n",
    "matches = {k: v(text) for k, v in extractors.items()}\n",
    "\n",
    "#spans = [_.span for _ in matches]\n",
    "#facts = [_.fact.as_json for _ in matches]\n",
    "#show_markup(text, spans)\n",
    "#show_json(facts[:100])"
   ],
   "metadata": {
    "collapsed": false,
    "ExecuteTime": {
     "end_time": "2024-03-19T15:16:42.945877850Z",
     "start_time": "2024-03-19T15:16:33.211524706Z"
    }
   },
   "id": "8c5a49680181bc97"
  },
  {
   "cell_type": "markdown",
   "source": [
    "Это даты и места:"
   ],
   "metadata": {
    "collapsed": false
   },
   "id": "ad55a4c9f4e48906"
  },
  {
   "cell_type": "code",
   "execution_count": 5,
   "outputs": [
    {
     "name": "stdout",
     "output_type": "stream",
     "text": [
      "--- dates ---\n",
      "[\n",
      "  {\n",
      "    \"month\": 8,\n",
      "    \"day\": 23,\n",
      "    \"current_era\": true\n",
      "  },\n",
      "  {\n",
      "    \"year\": 1190,\n",
      "    \"current_era\": true\n",
      "  },\n",
      "  {\n",
      "    \"year\": 1191,\n",
      "    \"current_era\": true\n",
      "  },\n",
      "  {\n",
      "    \"month\": 8,\n",
      "    \"day\": 23,\n",
      "    \"current_era\": true\n",
      "  },\n",
      "  {\n",
      "    \"year\": 1189,\n",
      "    \"current_era\": true\n",
      "  },\n",
      "  {\n",
      "    \"year\": 1191,\n",
      "    \"month\": 1,\n",
      "    \"day\": 20,\n",
      "    \"current_era\": true\n",
      "  },\n",
      "  {\n",
      "    \"year\": 1190,\n",
      "    \"month\": 9,\n",
      "    \"current_era\": true\n",
      "  },\n",
      "  {\n",
      "    \"year\": 1190,\n",
      "    \"month\": 3,\n",
      "    \"day\": 25,\n",
      "    \"current_era\": true\n",
      "  },\n",
      "  {\n",
      "    \"year\": 1165,\n",
      "    \"current_era\": true\n",
      "  },\n",
      "  {\n",
      "    \"year\": 1188,\n",
      "    \"current_era\": true\n",
      "  },\n",
      "  {\n",
      "    \"year\": 1190,\n",
      "    \"month\": 9,\n",
      "    \"current_era\": true\n",
      "  },\n",
      "  {\n",
      "    \"year\": 1190,\n",
      "    \"month\": 10,\n",
      "    \"current_era\": true\n",
      "  },\n",
      "  {\n",
      "    \"year\": 1188,\n",
      "    \"current_era\": true\n",
      "  },\n",
      "  {\n",
      "    \"year\": 1189,\n",
      "    \"current_era\": true\n",
      "  },\n",
      "  {\n",
      "    \"year\": 1190,\n",
      "    \"month\": 3,\n",
      "    \"day\": 25,\n",
      "    \"current_era\": true\n",
      "  },\n",
      "  {\n",
      "    \"month\": 11,\n",
      "    \"day\": 19,\n",
      "    \"current_era\": true\n",
      "  },\n",
      "  {\n",
      "    \"year\": 1191,\n",
      "    \"month\": 4,\n",
      "    \"current_era\": true\n",
      "  },\n",
      "  {\n",
      "    \"year\": 1191,\n",
      "    \"month\": 3,\n",
      "    \"current_era\": true\n",
      "  },\n",
      "  {\n",
      "    \"year\": 1187,\n",
      "    \"month\": 10,\n",
      "    \"current_era\": true\n",
      "  },\n",
      "  {\n",
      "    \"year\": 1189,\n",
      "    \"current_era\": true\n",
      "  },\n",
      "  {\n",
      "    \"month\": 2,\n",
      "    \"day\": 14,\n",
      "    \"current_era\": true\n",
      "  },\n",
      "  {\n",
      "    \"year\": 1190,\n",
      "    \"month\": 6,\n",
      "    \"day\": 10,\n",
      "    \"current_era\": true\n",
      "  },\n",
      "  {\n",
      "    \"year\": 1191,\n",
      "    \"month\": 1,\n",
      "    \"day\": 20,\n",
      "    \"current_era\": true\n",
      "  },\n",
      "  {\n",
      "    \"year\": 1192,\n",
      "    \"current_era\": true\n",
      "  },\n",
      "  {\n",
      "    \"year\": 1161,\n",
      "    \"current_era\": true\n",
      "  },\n",
      "  {\n",
      "    \"year\": 1165,\n",
      "    \"current_era\": true\n",
      "  },\n",
      "  {\n",
      "    \"month\": 8,\n",
      "    \"day\": 23,\n",
      "    \"current_era\": true\n",
      "  },\n",
      "  {\n",
      "    \"year\": 1192,\n",
      "    \"month\": 10,\n",
      "    \"current_era\": true\n",
      "  },\n",
      "  {\n",
      "    \"year\": 1189,\n",
      "    \"month\": 5,\n",
      "    \"day\": 24,\n",
      "    \"current_era\": true\n",
      "  },\n",
      "  {\n",
      "    \"year\": 1190,\n",
      "    \"month\": 1,\n",
      "    \"current_era\": true\n",
      "  }\n",
      "]\n",
      "--- locations ---\n",
      "[\n",
      "  {\n",
      "    \"name\": \"софия\"\n",
      "  },\n",
      "  {\n",
      "    \"name\": \"хайфа\"\n",
      "  },\n",
      "  {\n",
      "    \"name\": \"англия\"\n",
      "  },\n",
      "  {\n",
      "    \"name\": \"болгария\"\n",
      "  },\n",
      "  {\n",
      "    \"name\": \"то\"\n",
      "  },\n",
      "  {\n",
      "    \"name\": \"германия\"\n",
      "  },\n",
      "  {\n",
      "    \"name\": \"лузиньян\"\n",
      "  },\n",
      "  {\n",
      "    \"name\": \"италия\"\n",
      "  },\n",
      "  {\n",
      "    \"name\": \"французский область\"\n",
      "  },\n",
      "  {\n",
      "    \"name\": \"тир\"\n",
      "  },\n",
      "  {\n",
      "    \"name\": \"запад\"\n",
      "  },\n",
      "  {\n",
      "    \"name\": \"триполи\"\n",
      "  },\n",
      "  {\n",
      "    \"name\": \"малая азия\"\n",
      "  },\n",
      "  {\n",
      "    \"name\": \"босфор\"\n",
      "  },\n",
      "  {\n",
      "    \"name\": \"иерусалим\"\n",
      "  },\n",
      "  {\n",
      "    \"name\": \"май\"\n",
      "  },\n",
      "  {\n",
      "    \"name\": \"мосул\"\n",
      "  },\n",
      "  {\n",
      "    \"name\": \"куда\"\n",
      "  },\n",
      "  {\n",
      "    \"name\": \"то\"\n",
      "  },\n",
      "  {\n",
      "    \"name\": \"восток\"\n",
      "  },\n",
      "  {\n",
      "    \"name\": \"сирия\"\n",
      "  },\n",
      "  {\n",
      "    \"name\": \"каир\"\n",
      "  },\n",
      "  {\n",
      "    \"name\": \"филиппополь\"\n",
      "  },\n",
      "  {\n",
      "    \"name\": \"болгария\"\n",
      "  },\n",
      "  {\n",
      "    \"name\": \"сербия\"\n",
      "  },\n",
      "  {\n",
      "    \"name\": \"сирия\"\n",
      "  },\n",
      "  {\n",
      "    \"name\": \"латинский запад\"\n",
      "  },\n",
      "  {\n",
      "    \"name\": \"эта область\"\n",
      "  },\n",
      "  {\n",
      "    \"name\": \"египет\"\n",
      "  },\n",
      "  {\n",
      "    \"name\": \"мэн\"\n",
      "  }\n",
      "]\n"
     ]
    }
   ],
   "source": [
    "import random \n",
    "facts = {k: [x.fact.as_json for x in m] for k, m in matches.items()}\n",
    "for k in ['dates', 'locations']:\n",
    "    print(f'--- {k} ---')\n",
    "    show_json(random.choices(facts[k], k=30))"
   ],
   "metadata": {
    "collapsed": false,
    "ExecuteTime": {
     "end_time": "2024-03-19T15:16:42.975359266Z",
     "start_time": "2024-03-19T15:16:42.945785600Z"
    }
   },
   "id": "f1c58b4372d64e67"
  },
  {
   "cell_type": "raw",
   "source": [
    "Это имена, выдернутые двумя парсерами (имен и персон):"
   ],
   "metadata": {
    "collapsed": false
   },
   "id": "3f31cf61281ccfb7"
  },
  {
   "cell_type": "code",
   "execution_count": 6,
   "outputs": [
    {
     "name": "stdout",
     "output_type": "stream",
     "text": [
      "--- persons ---\n",
      "['Бароны и', 'Император не', 'Король ричард', 'После долгий', 'После смерти нур', 'Представителем жёсткого отношения к', 'Святой крест', 'август', 'айюбид', 'александр', 'алексей гид', 'алеппо', 'ангел', 'андроник кантакузин', 'ансберт', 'арсуф', 'асад', 'аскалон', 'аскалона франк', 'атлита', 'бабенберг', 'барбаросс', 'бертольд', 'бодуэн', 'больший', 'боэмунд', 'браничев', 'брат Ричарда иоанн', 'брата Саладина малёк', 'вильгельм', 'вильгельм завоеватель', 'вильгельм тирский', 'гвидо', 'гвискара', 'генрих', 'генрих английский', 'георг роппельт', 'главе отличная', 'графом Анжу мэн и', 'графы Анжу мэн и', 'губернатору Браничева и', 'дин', 'дочерью бертольд герцог', 'дочь Рожера и', 'дочь английского генрих король', 'дюрнштейн', 'жан', 'император не', 'император фридрих', 'император фридрих германский', 'императора Исаака ангел', 'императора Исаака избраннейших и', 'императора в живой', 'императора то', 'императором и славянский', 'иоанн', 'иоанн дук', 'исаак', 'исаак комнин', 'климент', 'князей и', 'князем не', 'князь Армении левон', 'князья и король', 'конрад', 'конрад монтферратский', 'конрад монферратский', 'короли не', 'король без', 'король бел', 'король в', 'король генрих', 'король иерусалим', 'король иерусалимский', 'король иоанн безземельный', 'король не', 'король ричард', 'король филипп', 'король шедший', 'королю в его французский', 'королю ленная', 'королю не', 'королю ричард', 'короля могший', 'короля не', 'короля тот к', 'королям подавший', 'королём английский', 'королём и', 'королём и германский', 'королём не', 'королём право', 'левон', 'леопольд', 'лузиньян', 'львиное', 'малая', 'месопотамия', 'неманя', 'никита', 'нур', 'отца и не', 'папами григорий', 'папы в то', 'папы и сильного возбуждения английская', 'патриарх в свой', 'патриарх ираклий', 'петра', 'писателем Нерсесом из лампрон', 'плантагевший', 'политик фридрих', 'помощником и', 'посла императора Фридриха к венгерский', 'послами византийский', 'послах сербского великого жупана и о', 'после Второго крестового поход', 'после возвращения Ричарда из поход', 'после прибытия в', 'после смерти григорий', 'после то', 'послов в', 'послы Стефана неманя', 'послы византийский', 'посол могший', 'посол не', 'правителем и', 'правители крестоносцев были далеко', 'правитель Киликийской Армении левон', 'правителями его французских областей бывший', 'принцесса Беренгария наваррская', 'птолемаида', 'пётр', 'раймунд', 'райнальда', 'ричард', 'роберт', 'роберт сент', 'романия', 'саладин', 'саладинова', 'себастьен мамро', 'селевкий', 'сестра ричард самый', 'сестра сало', 'сестра французского короля алиса', 'сестру и', 'сестру иоанн', 'сирия', 'стефан', 'сын барбаросс', 'сына Иоанн ричард и', 'сына Стефана неманя', 'сына Фридриха барбаросс', 'сына с', 'сыном и', 'сыну генрих', 'тарс', 'филипп', 'фрагонар', 'фридрих', 'фридрих германский', 'фридрих швабский', 'хониата', 'чиновниками императора в прямая', 'чиновников в', 'шади', 'эбергард', 'эварист']\n"
     ]
    }
   ],
   "source": [
    "facts = {k: [x.fact.as_json for x in m] for k, m in matches.items()}\n",
    "persons = facts['persons']\n",
    "for p in persons:\n",
    "    p['name'] = ' '.join(f for f in p['name'].values())\n",
    "persons = [' '.join(f.values()) for f in persons]\n",
    "persons = list(set(persons))\n",
    "print('--- persons ---')\n",
    "print(sorted(persons))"
   ],
   "metadata": {
    "collapsed": false,
    "ExecuteTime": {
     "end_time": "2024-03-19T15:16:43.056346006Z",
     "start_time": "2024-03-19T15:16:43.027788247Z"
    }
   },
   "id": "cfe5636df9c5d31f"
  },
  {
   "cell_type": "code",
   "execution_count": 7,
   "outputs": [
    {
     "name": "stdout",
     "output_type": "stream",
     "text": [
      "--- names ---\n",
      "['август', 'айюбид', 'александр', 'алексей гид', 'алеппо', 'алиса', 'ангел', 'андроник кантакузин', 'ансберт', 'арсуф', 'асад', 'аскалон', 'аскалона франк', 'атлита', 'бабенберг', 'барбаросс', 'беренгарий', 'бертольд', 'бодуэн', 'больший', 'боэмунд', 'браничев', 'вильгельм', 'вильгельм завоеватель', 'вильгельм тирский', 'гвидо', 'гвискара', 'генрих', 'генрих английский', 'георг роппельт', 'григорий', 'дин', 'дюрнштейн', 'жан', 'иоанн', 'иоанн безземельный', 'иоанн дук', 'ираклий', 'исаак', 'исаак комнин', 'климент', 'конрад', 'конрад монтферратский', 'конрад монферратский', 'лампрон', 'левон', 'леопольд', 'лузиньян', 'львиное', 'малая', 'малёк', 'месопотамия', 'наваррская', 'неманя', 'никита', 'нур', 'петра', 'плантагевший', 'птолемаида', 'пётр', 'раймунд', 'райнальда', 'ричард', 'роберт', 'роберт сент', 'романия', 'саладин', 'саладинова', 'себастьен мамро', 'селевкий', 'сирия', 'стефан', 'тарс', 'филипп', 'фрагонар', 'фридрих', 'фридрих германский', 'фридрих швабский', 'хониата', 'шади', 'эбергард', 'эварист']\n"
     ]
    }
   ],
   "source": [
    "names = facts['names']\n",
    "names = [' '.join(f.values()) for f in names]\n",
    "baseline_names = list(set(names))\n",
    "print(f'--- names ---')\n",
    "print(sorted(baseline_names))"
   ],
   "metadata": {
    "collapsed": false,
    "ExecuteTime": {
     "end_time": "2024-03-19T15:16:43.063102202Z",
     "start_time": "2024-03-19T15:16:43.058760088Z"
    }
   },
   "id": "56296be7528dab4c"
  },
  {
   "cell_type": "markdown",
   "source": [
    "В общем... \n",
    "- с датами проблем вроде нет, парсится хорошо, даже цепляет тройки день-месяц-год\n",
    "- локации тоже неплохо вытаскивает, благо они все однословные\n",
    "- а вот с именами все сильно хуже. Persons-парсер вообще выдает шума больше, чем полезного, а именной парсер явно не приспособлен извлекать заковыристые средневеконизмы, да и на титулы он явно не рассчитан.\n",
    "\n",
    "Вот доп. парсингом имен дальше и займемся"
   ],
   "metadata": {
    "collapsed": false
   },
   "id": "fdfcff5d8ba0ecc3"
  },
  {
   "cell_type": "code",
   "execution_count": 8,
   "outputs": [],
   "source": [
    "from yargy import (\n",
    "    Parser,\n",
    "    rule, or_, and_, not_\n",
    ")\n",
    "from yargy.predicates import (\n",
    "    eq, in_,\n",
    "    type, normalized,\n",
    "    dictionary,\n",
    "    gte, lte, is_capitalized\n",
    ")\n",
    "from yargy.pipelines import (\n",
    "    pipeline,\n",
    "    morph_pipeline\n",
    ")\n",
    "from yargy.interpretation import (\n",
    "    fact,\n",
    "    attribute\n",
    ")\n",
    "from yargy.predicates import gram\n",
    "from yargy.relations import gnc_relation\n",
    "\n",
    "gnc = gnc_relation() "
   ],
   "metadata": {
    "collapsed": false,
    "ExecuteTime": {
     "end_time": "2024-03-19T15:16:43.112346554Z",
     "start_time": "2024-03-19T15:16:43.061761557Z"
    }
   },
   "id": "2f7085101e841370"
  },
  {
   "cell_type": "markdown",
   "source": [
    "**Правило первое** - FunnyName. Будем парсить имена по французскому и восточному стилю в духе \"Салах-ад-Дин\" или \"Рено де Шатильон\". Соответственно, кастом на виды разделителей (- или space) и \"среднее имя\".\n",
    "\n",
    "По результату: нашел много салахов и нур'а... нашел бы и больше, если бы стандартная распознавашка имен признавала за имена/фамилии побольше всего нетипичного"
   ],
   "metadata": {
    "collapsed": false
   },
   "id": "4782512d56d4a60e"
  },
  {
   "cell_type": "code",
   "execution_count": 48,
   "outputs": [
    {
     "name": "stdout",
     "output_type": "stream",
     "text": [
      "--- rule #1, test:\n",
      "Name(first='салах', mid='ад', last='дин') Салах-ад-Дин\n",
      "Name(first='салах', mid='ад', last='дин') Салах ад дин\n",
      "Name(first='иван', mid='де', last='павлов') Иван де Павлов\n",
      "\n",
      "\n",
      "--- rule #1, real text:\n",
      "Салах-ад-дин\n",
      "Салах-ад-дин\n",
      "Салах-ад-дин\n",
      "Салах-ад-дин\n",
      "Нур-ад-дин\n",
      "Салах-ад-дин\n",
      "Салах-ад-дин\n",
      "Салах-ад-дин\n",
      "Салах-ад-дин\n",
      "Салах-ад-дин\n",
      "Салах-ад-дин\n"
     ]
    }
   ],
   "source": [
    "FunnyName = fact(\n",
    "    'Name',\n",
    "    ['first', 'mid', 'last']\n",
    ")\n",
    "\n",
    "\n",
    "NAME_SEP = eq('-')\n",
    "MID_NAME = or_(\n",
    "    eq('де').interpretation(FunnyName.mid.const('де')), \n",
    "    eq('ад').interpretation(FunnyName.mid.const('ад'))\n",
    ")\n",
    "NAME_FIRST = gram('Name').interpretation(\n",
    "    FunnyName.first.inflected()\n",
    ").match(gnc)\n",
    "NAME_LAST = or_(gram('Name'), gram('Surn')).interpretation(\n",
    "    FunnyName.last.inflected()\n",
    ").match(gnc)\n",
    "\n",
    "\n",
    "FUNNY_NAME = or_(\n",
    "    rule(\n",
    "    NAME_FIRST, NAME_SEP,\n",
    "    MID_NAME, NAME_SEP,\n",
    "    NAME_LAST), \n",
    "    rule(\n",
    "    NAME_FIRST,\n",
    "    MID_NAME,\n",
    "    NAME_LAST)\n",
    ").interpretation(\n",
    "    FunnyName\n",
    ")\n",
    "\n",
    "parser1 = Parser(FUNNY_NAME)\n",
    "print('--- rule #1, test:')\n",
    "test_text = 'Салах-ад-Дин, Салах ад дин, Иван де Павлов'\n",
    "for match in parser1.findall(test_text):\n",
    "    start, stop = match.span\n",
    "    print(match.fact, test_text[start:stop])\n",
    "\n",
    "print('\\n\\n--- rule #1, real text:')\n",
    "funny_names = list(parser1.findall(text))\n",
    "for match in list(funny_names):\n",
    "    start, stop = match.span\n",
    "    print(text[start:stop])"
   ],
   "metadata": {
    "collapsed": false,
    "ExecuteTime": {
     "end_time": "2024-03-19T15:31:18.277928380Z",
     "start_time": "2024-03-19T15:31:16.754223782Z"
    }
   },
   "id": "6370bf413a07cd49"
  },
  {
   "cell_type": "markdown",
   "source": [
    "**Правило второе** - RoyalName. Поиск более сложных имен, которые начинаются таки с имени, а дальше могут включать в себя римский номер (\"Генрих VI\"), а также какие-то стремные слова (0 или больше), которые начинаются с большой буквы, но стандартным парсером за имена и фамилии не считаются... да могут ими и не быть (\"Филипп IV Красивый\")"
   ],
   "metadata": {
    "collapsed": false
   },
   "id": "14213e79551ffd6d"
  },
  {
   "cell_type": "code",
   "execution_count": 49,
   "outputs": [
    {
     "name": "stdout",
     "output_type": "stream",
     "text": [
      "--- rule #2 test:\n",
      "Name(first_name='александр', regnal_number='XIII', last_name=None) Александр XIII\n",
      "Name(first_name='пиппина', regnal_number='IV', last_name='нога') Пиппин IV Мохнатые Ноги\n",
      "Name(first_name='конрад', regnal_number='V', last_name='зелёный') Конрад V Зеленый\n",
      "\n",
      "\n",
      "--- rule #2, real text:\n",
      "Григорием VIII\n",
      "Григория VIII\n",
      "Климентом III\n",
      "Фридрих I\n",
      "Филипп II Август\n",
      "Леопольд V Бабенберг\n",
      "Ричард I\n",
      "Левон II\n",
      "Асад ад\n",
      "Асад ад\n",
      "Асад ад\n",
      "Салах ад\n",
      "Вильгельма Тирского\n",
      "Роберт Сент\n",
      "Себастьена Мамро\n",
      "Фридрих I\n",
      "Филипп II Август\n",
      "Генрих II Плантагенет\n",
      "Филипп II Август\n",
      "Генрих II\n",
      "Генриху II\n",
      "Генрих II\n",
      "Вильгельма II\n",
      "Генриха VI\n",
      "Вильгельмом II\n",
      "Генриха II\n",
      "Исаака Комнина\n",
      "Исаак Комнин\n",
      "Исаака Комнина\n",
      "Фридрих I\n",
      "Исаак Ангел\n",
      "Фридрих I\n",
      "Бела III\n",
      "Фридриху I\n",
      "Роберт Гвискар\n",
      "Никиты Хониата\n",
      "Андроника Кантакузина\n",
      "Исаака Ангела\n",
      "Исаака Ангела\n",
      "Бела III\n",
      "Фридриха I\n",
      "Фридриха I\n",
      "Исаака Ангела\n",
      "Себастьена Мамро\n",
      "Конрадом Монтферратским\n",
      "Эвариста Фрагонара\n",
      "Леопольд V\n",
      "Филипп Август\n",
      "Конрада Монтферратского\n",
      "Филиппу II Августу\n",
      "Леопольд V\n",
      "Леопольда V\n",
      "Себастьена Мамро\n",
      "Конраду Монтферратскому\n",
      "Конрад Монферратский\n",
      "Леопольда V\n",
      "Леопольду V\n"
     ]
    }
   ],
   "source": [
    "import roman\n",
    "\n",
    "RoyalName = fact(\n",
    "    'Name',\n",
    "    ['first_name', 'regnal_number', 'last_name']\n",
    ")\n",
    "\n",
    "RNAME_FIRST = and_(is_capitalized(), gram('Name')).interpretation(\n",
    "    RoyalName.first_name.inflected()\n",
    ").match(gnc)\n",
    "REGNAL_NUMBER = pipeline([roman.toRoman(x) for x in range(30)]).interpretation(\n",
    "    RoyalName.regnal_number\n",
    ")\n",
    "RNAME_LAST = or_(\n",
    "    gram('Name'), gram('Surn'),\n",
    "    #and_(is_capitalized(), (gram('NOUN'))),\n",
    ").interpretation(\n",
    "    RoyalName.last_name.inflected()\n",
    ").match(gnc)\n",
    "\n",
    "RNAME_LAST_EXTENDED = or_(\n",
    "    gram('Name'), gram('Surn'),\n",
    "    is_capitalized(),\n",
    ").interpretation(\n",
    "    RoyalName.last_name.inflected()\n",
    ").match(gnc)\n",
    "\n",
    "ROYAL_NAME = or_(rule(RNAME_FIRST, REGNAL_NUMBER, RNAME_LAST_EXTENDED.optional().repeatable(max=3)),\n",
    "                 rule(RNAME_FIRST, REGNAL_NUMBER.optional(), RNAME_LAST)\n",
    ").interpretation(RoyalName)\n",
    "\n",
    "parser2 = Parser(ROYAL_NAME)\n",
    "print('--- rule #2 test:')\n",
    "test_text = 'Александр XIII, Пиппин IV Мохнатые Ноги, Петр, Конрад Зеленый, Конрад V Зеленый'\n",
    "for match in parser2.findall(test_text):\n",
    "    start, stop = match.span\n",
    "    print(match.fact, test_text[start:stop])\n",
    "\n",
    "print('\\n\\n--- rule #2, real text:')\n",
    "royal_names = list(parser2.findall(text))\n",
    "for match in royal_names:\n",
    "    start, stop = match.span\n",
    "    print(text[start:stop])\n"
   ],
   "metadata": {
    "collapsed": false,
    "ExecuteTime": {
     "end_time": "2024-03-19T15:31:20.630097827Z",
     "start_time": "2024-03-19T15:31:19.146119527Z"
    }
   },
   "id": "197abf40362e4b38"
  },
  {
   "cell_type": "markdown",
   "source": [
    "**Правило третье** - TitledName. Ищем имена с титулами. Имена берутся как комбо предыдущих правил, к ним добавляется поиск заданного титула."
   ],
   "metadata": {
    "collapsed": false
   },
   "id": "f8a4ec570ed6c296"
  },
  {
   "cell_type": "code",
   "execution_count": 36,
   "outputs": [
    {
     "name": "stdout",
     "output_type": "stream",
     "text": [
      "--- rule #3 test:\n",
      "король Конрад V Зеленый\n",
      "граф Анджей\n",
      "визирь Иван-ад-дин\n",
      "\n",
      "\n",
      "--- rule #3, real text:\n",
      "император Фридрих I\n",
      "король Филипп II Август\n",
      "король Ричард I\n",
      "король Филипп II Август\n",
      "король Генрих II\n",
      "короля Генриха II\n",
      "Король Ричард\n",
      "император Фридрих I\n",
      "императора Фридриха\n",
      "императора Исаака\n",
      "императора Исаака Ангела\n",
      "королю Ричарду\n",
      "король Иоанн\n"
     ]
    }
   ],
   "source": [
    "TitledName = fact(\n",
    "    'TitledName',\n",
    "    ['title', 'name']\n",
    ")\n",
    "\n",
    "TITLE = morph_pipeline([\n",
    "    'король', 'герцог' 'халиф', 'лорд', 'барон', 'император',\n",
    "    'граф', 'визирь'\n",
    "]).interpretation(\n",
    "    TitledName.title.inflected()\n",
    ").match(gnc)\n",
    "\n",
    "JUST_NAME = gram('Name').interpretation(\n",
    "    TitledName.name.inflected()\n",
    ").match(gnc)\n",
    "\n",
    "TITLED_NAME = rule(\n",
    "    TITLE, \n",
    "    or_(FUNNY_NAME, ROYAL_NAME, JUST_NAME).interpretation(TitledName.name.inflected()).match(gnc)\n",
    ").interpretation(TitledName)\n",
    "\n",
    "\n",
    "parser3 = Parser(TITLED_NAME)\n",
    "print('--- rule #3 test:')\n",
    "test_text = 'король Конрад V Зеленый, граф Анджей, визирь Иван-ад-дин'\n",
    "for match in parser3.findall(test_text):\n",
    "    start, stop = match.span\n",
    "    print(test_text[start:stop])\n",
    "\n",
    "print('\\n\\n--- rule #3, real text:')\n",
    "titled_names = list(parser3.findall(text))\n",
    "for match in titled_names:\n",
    "    start, stop = match.span\n",
    "    print(text[start:stop])\n"
   ],
   "metadata": {
    "collapsed": false,
    "ExecuteTime": {
     "end_time": "2024-03-19T15:26:55.055549213Z",
     "start_time": "2024-03-19T15:26:53.814899735Z"
    }
   },
   "id": "7697d74c83a354ea"
  },
  {
   "cell_type": "markdown",
   "source": [
    "### Итого\n",
    "- Стандартные правила позволили неплохо выделить даты и локации, но у них плохо вышло выделить составные имена, а парсер Persons (ради титулов и прочего) выдавал слишком много шума\n",
    "- Собственные правила направлены на улучшенный поиск имен, а именно:\n",
    "  1. Именные приставки и что-то похожее: Салах-ад-Дин, Жак де Моле\n",
    "  2. Королевские имена с номерами и прозвищами: Пиппин III Длинная Трубка\n",
    "  3. Титулы перед именами: король <...> "
   ],
   "metadata": {
    "collapsed": false
   },
   "id": "4c9dff47414876e3"
  },
  {
   "cell_type": "markdown",
   "source": [
    "Сформируем итоговый набор сущностей"
   ],
   "metadata": {
    "collapsed": false
   },
   "id": "52123d43fb855441"
  },
  {
   "cell_type": "code",
   "execution_count": 16,
   "outputs": [
    {
     "name": "stdout",
     "output_type": "stream",
     "text": [
      "date: year=1187, month=10, current_era=True\n",
      "location: name=киликийская армения\n"
     ]
    }
   ],
   "source": [
    "dates = [f'date: ' + ', '.join(f\"{k}={v}\" for k, v in fact.items()) for fact in facts['dates']]\n",
    "locations = [f'location: ' + ', '.join(f\"{k}={v}\" for k, v in fact.items()) for fact in facts['locations']]\n",
    "\n",
    "print(dates[0], '\\n', locations[0], sep='')"
   ],
   "metadata": {
    "collapsed": false,
    "ExecuteTime": {
     "end_time": "2024-03-19T15:19:30.174148998Z",
     "start_time": "2024-03-19T15:19:30.128672060Z"
    }
   },
   "id": "87213d22b35e7427"
  },
  {
   "cell_type": "code",
   "execution_count": 51,
   "outputs": [
    {
     "name": "stdout",
     "output_type": "stream",
     "text": [
      "name [rule1]:first=салах, mid=ад, last=дин\n",
      "name [rule2]:first_name=григорий, regnal_number=VIII, last_name=None\n"
     ]
    }
   ],
   "source": [
    "funny_names_str = [f'name [rule1]:' + ', '.join(f\"{k}={rn.fact.__dict__[k]}\" for k in rn.fact.__dict__ if k != '_raw') for rn in funny_names]\n",
    "royal_names_str = [f'name [rule2]:' + ', '.join(f\"{k}={rn.fact.__dict__[k]}\" for k in rn.fact.__dict__ if k != '_raw') for rn in royal_names]\n",
    "\n",
    "\n",
    "print(funny_names_str[0], '\\n', royal_names_str[0], sep='')\n"
   ],
   "metadata": {
    "collapsed": false,
    "ExecuteTime": {
     "end_time": "2024-03-19T15:31:30.953844541Z",
     "start_time": "2024-03-19T15:31:30.906379722Z"
    }
   },
   "id": "ab66e20694127a4d"
  },
  {
   "cell_type": "code",
   "execution_count": 59,
   "outputs": [
    {
     "data": {
      "text/plain": "'name [rule3]:title=императора, name=Исаака Ангела'"
     },
     "execution_count": 59,
     "metadata": {},
     "output_type": "execute_result"
    }
   ],
   "source": [
    "titled_names_str = [f'name [rule3]: ' + f'title={tn.tokens[0].value}, name=' + ' '.join([t.value for t in tn.tokens[1:]])  for tn in titled_names]\n",
    "\n",
    "titled_names_str[10]"
   ],
   "metadata": {
    "collapsed": false,
    "ExecuteTime": {
     "end_time": "2024-03-19T15:34:26.145983344Z",
     "start_time": "2024-03-19T15:34:26.104701628Z"
    }
   },
   "id": "12bd243bf0d4bd88"
  },
  {
   "cell_type": "code",
   "execution_count": 62,
   "outputs": [],
   "source": [
    "with open('extracted_names.txt', 'w') as f:\n",
    "    str = '\\n========\\n'.join('\\n'.join(data) for data in [dates, locations, funny_names_str, royal_names_str, titled_names_str])\n",
    "    f.write(str)"
   ],
   "metadata": {
    "collapsed": false,
    "ExecuteTime": {
     "end_time": "2024-03-19T15:36:08.445770129Z",
     "start_time": "2024-03-19T15:36:08.400771443Z"
    }
   },
   "id": "b51cdeefd3bd1c2a"
  },
  {
   "cell_type": "code",
   "execution_count": null,
   "outputs": [],
   "source": [],
   "metadata": {
    "collapsed": false
   },
   "id": "9d22c9a78221117f"
  }
 ],
 "metadata": {
  "kernelspec": {
   "display_name": "Python 3",
   "language": "python",
   "name": "python3"
  },
  "language_info": {
   "codemirror_mode": {
    "name": "ipython",
    "version": 2
   },
   "file_extension": ".py",
   "mimetype": "text/x-python",
   "name": "python",
   "nbconvert_exporter": "python",
   "pygments_lexer": "ipython2",
   "version": "2.7.6"
  }
 },
 "nbformat": 4,
 "nbformat_minor": 5
}
